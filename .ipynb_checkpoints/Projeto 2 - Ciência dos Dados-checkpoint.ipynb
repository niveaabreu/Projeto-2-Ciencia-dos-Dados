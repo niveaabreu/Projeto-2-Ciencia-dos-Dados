{
 "cells": [
  {
   "cell_type": "markdown",
   "metadata": {},
   "source": [
    "# **Projeto 2 da disciplina de Ciência dos Dados - Engenharia Insper**"
   ]
  },
  {
   "cell_type": "markdown",
   "metadata": {},
   "source": [
    " **Alunos: Breno Alencar Araújo, Lorran Caetano Machado Lopes e Nívea de Abreu Dantas Lima**"
   ]
  },
  {
   "cell_type": "markdown",
   "metadata": {},
   "source": [
    "## Felicidade?\n",
    "\n",
    "Disse o mais tolo: felicidade não existe\n",
    "\n",
    "O intelectual: não no sentido lato\n",
    "\n",
    "O empresário: desde que haja lucro\n",
    "\n",
    "O operário: sem emprego, nem pensar\n",
    "\n",
    "O cientista: ainda será descoberta\n",
    "\n",
    "O místico: está escrito nas estrelas\n",
    "\n",
    "O político: poder\n",
    "\n",
    "A igreja: sem tristeza? impossível (Amém)\n",
    "\n",
    "O poeta riu de todos\n",
    "\n",
    "E por alguns minutos\n",
    "\n",
    "Foi feliz\n",
    "\n",
    "(Sérgio Vaz)\n",
    "\n",
    "https://www.youtube.com/watch?v=e7dS5BUok4c"
   ]
  },
  {
   "cell_type": "markdown",
   "metadata": {},
   "source": [
    "...Mesmo abstrata e subjetiva, é possível escalar a felicidade de zero a dez. Nosso objetivo é prever, com base em outro indicadores sociais, as possíveis pontuações futuras de felicidade dos países pelo mundo..."
   ]
  },
  {
   "cell_type": "markdown",
   "metadata": {},
   "source": [
    "Carregando a biblioteca Pandas:"
   ]
  },
  {
   "cell_type": "code",
<<<<<<< HEAD
   "execution_count": 31,
=======
   "execution_count": 10,
>>>>>>> 8dfd3d1216b794f940d827b19e0d3e7393bb6fea
   "metadata": {},
   "outputs": [],
   "source": [
    "import pandas as pd\n",
    "#Bibliotecas necessárias\n",
    "from scipy.stats import uniform, expon, norm\n",
    "import numpy as np\n",
    "import matplotlib.pyplot as plt"
   ]
  },
  {
   "cell_type": "code",
   "execution_count": 136,
   "metadata": {},
   "outputs": [],
   "source": [
    "#Bibliotecas necessárias\n",
    "from scipy.stats import uniform, expon, norm, probplot\n",
    "import numpy as np\n",
    "import matplotlib.pyplot as plt"
   ]
  },
  {
   "cell_type": "markdown",
   "metadata": {},
   "source": [
    "Carregando as bases de dados:"
   ]
  },
  {
   "cell_type": "code",
<<<<<<< HEAD
   "execution_count": 32,
=======
   "execution_count": 137,
>>>>>>> 8dfd3d1216b794f940d827b19e0d3e7393bb6fea
   "metadata": {},
   "outputs": [],
   "source": [
    "felicidade_2021 = pd.read_csv(\"world-happiness-report-2021.csv\")\n"
   ]
  },
  {
   "cell_type": "code",
<<<<<<< HEAD
   "execution_count": 33,
=======
   "execution_count": 138,
>>>>>>> 8dfd3d1216b794f940d827b19e0d3e7393bb6fea
   "metadata": {},
   "outputs": [
    {
     "data": {
      "text/html": [
       "<div>\n",
       "<style scoped>\n",
       "    .dataframe tbody tr th:only-of-type {\n",
       "        vertical-align: middle;\n",
       "    }\n",
       "\n",
       "    .dataframe tbody tr th {\n",
       "        vertical-align: top;\n",
       "    }\n",
       "\n",
       "    .dataframe thead th {\n",
       "        text-align: right;\n",
       "    }\n",
       "</style>\n",
       "<table border=\"1\" class=\"dataframe\">\n",
       "  <thead>\n",
       "    <tr style=\"text-align: right;\">\n",
       "      <th></th>\n",
       "      <th>Country name</th>\n",
       "      <th>Regional indicator</th>\n",
       "      <th>Ladder score</th>\n",
       "      <th>Standard error of ladder score</th>\n",
       "      <th>upperwhisker</th>\n",
       "      <th>lowerwhisker</th>\n",
       "      <th>Logged GDP per capita</th>\n",
       "      <th>Social support</th>\n",
       "      <th>Healthy life expectancy</th>\n",
       "      <th>Freedom to make life choices</th>\n",
       "      <th>Generosity</th>\n",
       "      <th>Perceptions of corruption</th>\n",
       "      <th>Ladder score in Dystopia</th>\n",
       "      <th>Explained by: Log GDP per capita</th>\n",
       "      <th>Explained by: Social support</th>\n",
       "      <th>Explained by: Healthy life expectancy</th>\n",
       "      <th>Explained by: Freedom to make life choices</th>\n",
       "      <th>Explained by: Generosity</th>\n",
       "      <th>Explained by: Perceptions of corruption</th>\n",
       "      <th>Dystopia + residual</th>\n",
       "    </tr>\n",
       "  </thead>\n",
       "  <tbody>\n",
       "    <tr>\n",
       "      <th>0</th>\n",
       "      <td>Finland</td>\n",
       "      <td>Western Europe</td>\n",
       "      <td>7.842</td>\n",
       "      <td>0.032</td>\n",
       "      <td>7.904</td>\n",
       "      <td>7.780</td>\n",
       "      <td>10.775</td>\n",
       "      <td>0.954</td>\n",
       "      <td>72.0</td>\n",
       "      <td>0.949</td>\n",
       "      <td>-0.098</td>\n",
       "      <td>0.186</td>\n",
       "      <td>2.43</td>\n",
       "      <td>1.446</td>\n",
       "      <td>1.106</td>\n",
       "      <td>0.741</td>\n",
       "      <td>0.691</td>\n",
       "      <td>0.124</td>\n",
       "      <td>0.481</td>\n",
       "      <td>3.253</td>\n",
       "    </tr>\n",
       "    <tr>\n",
       "      <th>1</th>\n",
       "      <td>Denmark</td>\n",
       "      <td>Western Europe</td>\n",
       "      <td>7.620</td>\n",
       "      <td>0.035</td>\n",
       "      <td>7.687</td>\n",
       "      <td>7.552</td>\n",
       "      <td>10.933</td>\n",
       "      <td>0.954</td>\n",
       "      <td>72.7</td>\n",
       "      <td>0.946</td>\n",
       "      <td>0.030</td>\n",
       "      <td>0.179</td>\n",
       "      <td>2.43</td>\n",
       "      <td>1.502</td>\n",
       "      <td>1.108</td>\n",
       "      <td>0.763</td>\n",
       "      <td>0.686</td>\n",
       "      <td>0.208</td>\n",
       "      <td>0.485</td>\n",
       "      <td>2.868</td>\n",
       "    </tr>\n",
       "    <tr>\n",
       "      <th>2</th>\n",
       "      <td>Switzerland</td>\n",
       "      <td>Western Europe</td>\n",
       "      <td>7.571</td>\n",
       "      <td>0.036</td>\n",
       "      <td>7.643</td>\n",
       "      <td>7.500</td>\n",
       "      <td>11.117</td>\n",
       "      <td>0.942</td>\n",
       "      <td>74.4</td>\n",
       "      <td>0.919</td>\n",
       "      <td>0.025</td>\n",
       "      <td>0.292</td>\n",
       "      <td>2.43</td>\n",
       "      <td>1.566</td>\n",
       "      <td>1.079</td>\n",
       "      <td>0.816</td>\n",
       "      <td>0.653</td>\n",
       "      <td>0.204</td>\n",
       "      <td>0.413</td>\n",
       "      <td>2.839</td>\n",
       "    </tr>\n",
       "    <tr>\n",
       "      <th>3</th>\n",
       "      <td>Iceland</td>\n",
       "      <td>Western Europe</td>\n",
       "      <td>7.554</td>\n",
       "      <td>0.059</td>\n",
       "      <td>7.670</td>\n",
       "      <td>7.438</td>\n",
       "      <td>10.878</td>\n",
       "      <td>0.983</td>\n",
       "      <td>73.0</td>\n",
       "      <td>0.955</td>\n",
       "      <td>0.160</td>\n",
       "      <td>0.673</td>\n",
       "      <td>2.43</td>\n",
       "      <td>1.482</td>\n",
       "      <td>1.172</td>\n",
       "      <td>0.772</td>\n",
       "      <td>0.698</td>\n",
       "      <td>0.293</td>\n",
       "      <td>0.170</td>\n",
       "      <td>2.967</td>\n",
       "    </tr>\n",
       "    <tr>\n",
       "      <th>4</th>\n",
       "      <td>Netherlands</td>\n",
       "      <td>Western Europe</td>\n",
       "      <td>7.464</td>\n",
       "      <td>0.027</td>\n",
       "      <td>7.518</td>\n",
       "      <td>7.410</td>\n",
       "      <td>10.932</td>\n",
       "      <td>0.942</td>\n",
       "      <td>72.4</td>\n",
       "      <td>0.913</td>\n",
       "      <td>0.175</td>\n",
       "      <td>0.338</td>\n",
       "      <td>2.43</td>\n",
       "      <td>1.501</td>\n",
       "      <td>1.079</td>\n",
       "      <td>0.753</td>\n",
       "      <td>0.647</td>\n",
       "      <td>0.302</td>\n",
       "      <td>0.384</td>\n",
       "      <td>2.798</td>\n",
       "    </tr>\n",
       "  </tbody>\n",
       "</table>\n",
       "</div>"
      ],
      "text/plain": [
       "  Country name Regional indicator  Ladder score  \\\n",
       "0      Finland     Western Europe         7.842   \n",
       "1      Denmark     Western Europe         7.620   \n",
       "2  Switzerland     Western Europe         7.571   \n",
       "3      Iceland     Western Europe         7.554   \n",
       "4  Netherlands     Western Europe         7.464   \n",
       "\n",
       "   Standard error of ladder score  upperwhisker  lowerwhisker  \\\n",
       "0                           0.032         7.904         7.780   \n",
       "1                           0.035         7.687         7.552   \n",
       "2                           0.036         7.643         7.500   \n",
       "3                           0.059         7.670         7.438   \n",
       "4                           0.027         7.518         7.410   \n",
       "\n",
       "   Logged GDP per capita  Social support  Healthy life expectancy  \\\n",
       "0                 10.775           0.954                     72.0   \n",
       "1                 10.933           0.954                     72.7   \n",
       "2                 11.117           0.942                     74.4   \n",
       "3                 10.878           0.983                     73.0   \n",
       "4                 10.932           0.942                     72.4   \n",
       "\n",
       "   Freedom to make life choices  Generosity  Perceptions of corruption  \\\n",
       "0                         0.949      -0.098                      0.186   \n",
       "1                         0.946       0.030                      0.179   \n",
       "2                         0.919       0.025                      0.292   \n",
       "3                         0.955       0.160                      0.673   \n",
       "4                         0.913       0.175                      0.338   \n",
       "\n",
       "   Ladder score in Dystopia  Explained by: Log GDP per capita  \\\n",
       "0                      2.43                             1.446   \n",
       "1                      2.43                             1.502   \n",
       "2                      2.43                             1.566   \n",
       "3                      2.43                             1.482   \n",
       "4                      2.43                             1.501   \n",
       "\n",
       "   Explained by: Social support  Explained by: Healthy life expectancy  \\\n",
       "0                         1.106                                  0.741   \n",
       "1                         1.108                                  0.763   \n",
       "2                         1.079                                  0.816   \n",
       "3                         1.172                                  0.772   \n",
       "4                         1.079                                  0.753   \n",
       "\n",
       "   Explained by: Freedom to make life choices  Explained by: Generosity  \\\n",
       "0                                       0.691                     0.124   \n",
       "1                                       0.686                     0.208   \n",
       "2                                       0.653                     0.204   \n",
       "3                                       0.698                     0.293   \n",
       "4                                       0.647                     0.302   \n",
       "\n",
       "   Explained by: Perceptions of corruption  Dystopia + residual  \n",
       "0                                    0.481                3.253  \n",
       "1                                    0.485                2.868  \n",
       "2                                    0.413                2.839  \n",
       "3                                    0.170                2.967  \n",
       "4                                    0.384                2.798  "
      ]
     },
<<<<<<< HEAD
     "execution_count": 33,
=======
     "execution_count": 138,
>>>>>>> 8dfd3d1216b794f940d827b19e0d3e7393bb6fea
     "metadata": {},
     "output_type": "execute_result"
    }
   ],
   "source": [
    "felicidade_2021.head()"
   ]
  },
  {
   "cell_type": "markdown",
   "metadata": {},
   "source": [
    "## Verificando colunas"
   ]
  },
  {
   "cell_type": "code",
   "execution_count": 139,
   "metadata": {},
   "outputs": [],
   "source": [
    "#Descomente para ver \n",
    "#felicidade_2021.dtypes"
   ]
  },
  {
   "cell_type": "markdown",
   "metadata": {},
   "source": [
    "Todas as colunas estão sendo lidas como números de ponto flutuante"
   ]
  },
  {
   "cell_type": "markdown",
   "metadata": {},
   "source": [
    "#### Há valores nulos?"
   ]
  },
  {
   "cell_type": "code",
   "execution_count": 140,
   "metadata": {},
   "outputs": [],
   "source": [
    "#Descomente para ver\n",
    "#felicidade_2021.isnull().sum()"
   ]
  },
  {
   "cell_type": "markdown",
   "metadata": {},
   "source": [
    "As colunas não possuem valores nulos"
   ]
  },
  {
   "cell_type": "markdown",
   "metadata": {},
   "source": [
    "## Análise Exploratória"
   ]
  },
  {
   "cell_type": "markdown",
   "metadata": {},
   "source": [
    "Retorne às primeiras linhas do dataframe e note que os países mais felizes possuem índices de generosidade bem baixos ou até negativos. Será que países mais egoístas são mais felizes?\n",
    "\n",
    "Veja a distribuição da generosidade pela felicidade dos países"
   ]
  },
  {
   "cell_type": "code",
<<<<<<< HEAD
   "execution_count": 34,
=======
   "execution_count": 141,
>>>>>>> 8dfd3d1216b794f940d827b19e0d3e7393bb6fea
   "metadata": {},
   "outputs": [
    {
     "data": {
      "image/png": "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\n",
      "text/plain": [
       "<Figure size 432x288 with 1 Axes>"
      ]
     },
<<<<<<< HEAD
     "execution_count": 34,
=======
     "metadata": {},
     "output_type": "display_data"
    }
   ],
   "source": [
    "plt.plot(felicidade_2021['Ladder score'], felicidade_2021['Generosity'],'bo')\n",
    "plt.title(\"Distribuição da generosidade pela felicidade\")\n",
    "plt.xlabel(\"Felicidade\")\n",
    "plt.ylabel(\"Generosidade\")\n",
    "plt.show()"
   ]
  },
  {
   "cell_type": "code",
   "execution_count": 142,
   "metadata": {},
   "outputs": [],
   "source": [
    "#"
   ]
  },
  {
   "cell_type": "code",
   "execution_count": 143,
   "metadata": {},
   "outputs": [
    {
     "data": {
      "image/png": "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\n",
      "text/plain": [
       "<Figure size 432x288 with 1 Axes>"
      ]
     },
     "metadata": {},
     "output_type": "display_data"
    }
   ],
   "source": [
    "plt.plot(felicidade_2021['Freedom to make life choices'], felicidade_2021['Generosity'],'ro')\n",
    "plt.title(\"Liberdade de escolha pela generosidade\")\n",
    "plt.xlabel(\"Liberdade de escolha\")\n",
    "plt.ylabel(\"Generosidade\")\n",
    "plt.show()"
   ]
  },
  {
   "cell_type": "code",
   "execution_count": 144,
   "metadata": {},
   "outputs": [
    {
     "data": {
      "image/png": "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\n",
      "text/plain": [
       "<Figure size 432x288 with 1 Axes>"
      ]
     },
     "metadata": {},
     "output_type": "display_data"
    }
   ],
   "source": [
    "plt.plot(felicidade_2021['Freedom to make life choices'], felicidade_2021['Ladder score'],'ro')\n",
    "plt.title(\"Liberdade de escolha pela generosidade\")\n",
    "plt.xlabel(\"Liberdade de escolha\")\n",
    "plt.ylabel(\"Generosidade\")\n",
    "plt.show()"
   ]
  },
  {
   "cell_type": "code",
   "execution_count": 145,
   "metadata": {},
   "outputs": [
    {
     "data": {
      "text/plain": [
       "0.16943737448169657"
      ]
     },
     "execution_count": 145,
>>>>>>> 8dfd3d1216b794f940d827b19e0d3e7393bb6fea
     "metadata": {},
     "output_type": "execute_result"
    }
   ],
   "source": [
    "felicidade_2021['Freedom to make life choices'].corr(felicidade_2021['Generosity'])"
   ]
  },
  {
   "cell_type": "code",
   "execution_count": 146,
   "metadata": {},
   "outputs": [
    {
     "data": {
      "text/plain": [
       "-0.017799276922640783"
      ]
     },
     "execution_count": 146,
     "metadata": {},
     "output_type": "execute_result"
    }
   ],
   "source": [
    "felicidade_2021['Ladder score'].corr(felicidade_2021['Generosity'])"
   ]
  },
  {
   "cell_type": "code",
<<<<<<< HEAD
   "execution_count": 35,
=======
   "execution_count": 147,
   "metadata": {},
   "outputs": [
    {
     "data": {
      "text/plain": [
       "0.6077530656580241"
      ]
     },
     "execution_count": 147,
     "metadata": {},
     "output_type": "execute_result"
    }
   ],
   "source": [
    "felicidade_2021['Ladder score'].corr(felicidade_2021['Freedom to make life choices'])"
   ]
  },
  {
   "cell_type": "code",
   "execution_count": 148,
   "metadata": {},
   "outputs": [],
   "source": [
    "felicidade_2021['Ladder score'].corr(felicidade_2021['Generosity'])\n",
    "# Percebemos uma fraca correlação entre os graus de generosidade e felicidade (-0.01)"
   ]
  },
  {
   "cell_type": "code",
   "execution_count": 149,
   "metadata": {},
   "outputs": [],
   "source": [
    "felicidade_2021['Ladder score'].corr(felicidade_2021['Freedom to make life choices'])\n",
    "# Entre os graus de felicidade e liberdade de fazer escolhas há quase uma correlação considerável (0.60)"
   ]
  },
  {
   "cell_type": "code",
   "execution_count": 150,
>>>>>>> 8dfd3d1216b794f940d827b19e0d3e7393bb6fea
   "metadata": {},
   "outputs": [
    {
     "data": {
      "text/html": [
       "<div>\n",
       "<style scoped>\n",
       "    .dataframe tbody tr th:only-of-type {\n",
       "        vertical-align: middle;\n",
       "    }\n",
       "\n",
       "    .dataframe tbody tr th {\n",
       "        vertical-align: top;\n",
       "    }\n",
       "\n",
       "    .dataframe thead th {\n",
       "        text-align: right;\n",
       "    }\n",
       "</style>\n",
       "<table border=\"1\" class=\"dataframe\">\n",
       "  <thead>\n",
       "    <tr style=\"text-align: right;\">\n",
       "      <th></th>\n",
       "      <th>Ladder score</th>\n",
       "      <th>Standard error of ladder score</th>\n",
       "      <th>upperwhisker</th>\n",
       "      <th>lowerwhisker</th>\n",
       "      <th>Logged GDP per capita</th>\n",
       "      <th>Social support</th>\n",
       "      <th>Healthy life expectancy</th>\n",
       "      <th>Freedom to make life choices</th>\n",
       "      <th>Generosity</th>\n",
       "      <th>Perceptions of corruption</th>\n",
       "      <th>Ladder score in Dystopia</th>\n",
       "      <th>Explained by: Log GDP per capita</th>\n",
       "      <th>Explained by: Social support</th>\n",
       "      <th>Explained by: Healthy life expectancy</th>\n",
       "      <th>Explained by: Freedom to make life choices</th>\n",
       "      <th>Explained by: Generosity</th>\n",
       "      <th>Explained by: Perceptions of corruption</th>\n",
       "      <th>Dystopia + residual</th>\n",
       "    </tr>\n",
       "  </thead>\n",
       "  <tbody>\n",
       "    <tr>\n",
       "      <th>count</th>\n",
       "      <td>149.000000</td>\n",
       "      <td>149.000000</td>\n",
       "      <td>149.000000</td>\n",
       "      <td>149.000000</td>\n",
       "      <td>149.000000</td>\n",
       "      <td>149.000000</td>\n",
       "      <td>149.000000</td>\n",
       "      <td>149.000000</td>\n",
       "      <td>149.000000</td>\n",
       "      <td>149.000000</td>\n",
       "      <td>1.490000e+02</td>\n",
       "      <td>149.000000</td>\n",
       "      <td>149.000000</td>\n",
       "      <td>149.000000</td>\n",
       "      <td>149.000000</td>\n",
       "      <td>149.000000</td>\n",
       "      <td>149.000000</td>\n",
       "      <td>149.000000</td>\n",
       "    </tr>\n",
       "    <tr>\n",
       "      <th>mean</th>\n",
       "      <td>5.532839</td>\n",
       "      <td>0.058752</td>\n",
       "      <td>5.648007</td>\n",
       "      <td>5.417631</td>\n",
       "      <td>9.432208</td>\n",
       "      <td>0.814745</td>\n",
       "      <td>64.992799</td>\n",
       "      <td>0.791597</td>\n",
       "      <td>-0.015134</td>\n",
       "      <td>0.727450</td>\n",
       "      <td>2.430000e+00</td>\n",
       "      <td>0.977161</td>\n",
       "      <td>0.793315</td>\n",
       "      <td>0.520161</td>\n",
       "      <td>0.498711</td>\n",
       "      <td>0.178047</td>\n",
       "      <td>0.135141</td>\n",
       "      <td>2.430329</td>\n",
       "    </tr>\n",
       "    <tr>\n",
       "      <th>std</th>\n",
       "      <td>1.073924</td>\n",
       "      <td>0.022001</td>\n",
       "      <td>1.054330</td>\n",
       "      <td>1.094879</td>\n",
       "      <td>1.158601</td>\n",
       "      <td>0.114889</td>\n",
       "      <td>6.762043</td>\n",
       "      <td>0.113332</td>\n",
       "      <td>0.150657</td>\n",
       "      <td>0.179226</td>\n",
       "      <td>5.347044e-15</td>\n",
       "      <td>0.404740</td>\n",
       "      <td>0.258871</td>\n",
       "      <td>0.213019</td>\n",
       "      <td>0.137888</td>\n",
       "      <td>0.098270</td>\n",
       "      <td>0.114361</td>\n",
       "      <td>0.537645</td>\n",
       "    </tr>\n",
       "    <tr>\n",
       "      <th>min</th>\n",
       "      <td>2.523000</td>\n",
       "      <td>0.026000</td>\n",
       "      <td>2.596000</td>\n",
       "      <td>2.449000</td>\n",
       "      <td>6.635000</td>\n",
       "      <td>0.463000</td>\n",
       "      <td>48.478000</td>\n",
       "      <td>0.382000</td>\n",
       "      <td>-0.288000</td>\n",
       "      <td>0.082000</td>\n",
       "      <td>2.430000e+00</td>\n",
       "      <td>0.000000</td>\n",
       "      <td>0.000000</td>\n",
       "      <td>0.000000</td>\n",
       "      <td>0.000000</td>\n",
       "      <td>0.000000</td>\n",
       "      <td>0.000000</td>\n",
       "      <td>0.648000</td>\n",
       "    </tr>\n",
       "    <tr>\n",
       "      <th>25%</th>\n",
       "      <td>4.852000</td>\n",
       "      <td>0.043000</td>\n",
       "      <td>4.991000</td>\n",
       "      <td>4.706000</td>\n",
       "      <td>8.541000</td>\n",
       "      <td>0.750000</td>\n",
       "      <td>59.802000</td>\n",
       "      <td>0.718000</td>\n",
       "      <td>-0.126000</td>\n",
       "      <td>0.667000</td>\n",
       "      <td>2.430000e+00</td>\n",
       "      <td>0.666000</td>\n",
       "      <td>0.647000</td>\n",
       "      <td>0.357000</td>\n",
       "      <td>0.409000</td>\n",
       "      <td>0.105000</td>\n",
       "      <td>0.060000</td>\n",
       "      <td>2.138000</td>\n",
       "    </tr>\n",
       "    <tr>\n",
       "      <th>50%</th>\n",
       "      <td>5.534000</td>\n",
       "      <td>0.054000</td>\n",
       "      <td>5.625000</td>\n",
       "      <td>5.413000</td>\n",
       "      <td>9.569000</td>\n",
       "      <td>0.832000</td>\n",
       "      <td>66.603000</td>\n",
       "      <td>0.804000</td>\n",
       "      <td>-0.036000</td>\n",
       "      <td>0.781000</td>\n",
       "      <td>2.430000e+00</td>\n",
       "      <td>1.025000</td>\n",
       "      <td>0.832000</td>\n",
       "      <td>0.571000</td>\n",
       "      <td>0.514000</td>\n",
       "      <td>0.164000</td>\n",
       "      <td>0.101000</td>\n",
       "      <td>2.509000</td>\n",
       "    </tr>\n",
       "    <tr>\n",
       "      <th>75%</th>\n",
       "      <td>6.255000</td>\n",
       "      <td>0.070000</td>\n",
       "      <td>6.344000</td>\n",
       "      <td>6.128000</td>\n",
       "      <td>10.421000</td>\n",
       "      <td>0.905000</td>\n",
       "      <td>69.600000</td>\n",
       "      <td>0.877000</td>\n",
       "      <td>0.079000</td>\n",
       "      <td>0.845000</td>\n",
       "      <td>2.430000e+00</td>\n",
       "      <td>1.323000</td>\n",
       "      <td>0.996000</td>\n",
       "      <td>0.665000</td>\n",
       "      <td>0.603000</td>\n",
       "      <td>0.239000</td>\n",
       "      <td>0.174000</td>\n",
       "      <td>2.794000</td>\n",
       "    </tr>\n",
       "    <tr>\n",
       "      <th>max</th>\n",
       "      <td>7.842000</td>\n",
       "      <td>0.173000</td>\n",
       "      <td>7.904000</td>\n",
       "      <td>7.780000</td>\n",
       "      <td>11.647000</td>\n",
       "      <td>0.983000</td>\n",
       "      <td>76.953000</td>\n",
       "      <td>0.970000</td>\n",
       "      <td>0.542000</td>\n",
       "      <td>0.939000</td>\n",
       "      <td>2.430000e+00</td>\n",
       "      <td>1.751000</td>\n",
       "      <td>1.172000</td>\n",
       "      <td>0.897000</td>\n",
       "      <td>0.716000</td>\n",
       "      <td>0.541000</td>\n",
       "      <td>0.547000</td>\n",
       "      <td>3.482000</td>\n",
       "    </tr>\n",
       "  </tbody>\n",
       "</table>\n",
       "</div>"
      ],
      "text/plain": [
       "       Ladder score  Standard error of ladder score  upperwhisker  \\\n",
       "count    149.000000                      149.000000    149.000000   \n",
       "mean       5.532839                        0.058752      5.648007   \n",
       "std        1.073924                        0.022001      1.054330   \n",
       "min        2.523000                        0.026000      2.596000   \n",
       "25%        4.852000                        0.043000      4.991000   \n",
       "50%        5.534000                        0.054000      5.625000   \n",
       "75%        6.255000                        0.070000      6.344000   \n",
       "max        7.842000                        0.173000      7.904000   \n",
       "\n",
       "       lowerwhisker  Logged GDP per capita  Social support  \\\n",
       "count    149.000000             149.000000      149.000000   \n",
       "mean       5.417631               9.432208        0.814745   \n",
       "std        1.094879               1.158601        0.114889   \n",
       "min        2.449000               6.635000        0.463000   \n",
       "25%        4.706000               8.541000        0.750000   \n",
       "50%        5.413000               9.569000        0.832000   \n",
       "75%        6.128000              10.421000        0.905000   \n",
       "max        7.780000              11.647000        0.983000   \n",
       "\n",
       "       Healthy life expectancy  Freedom to make life choices  Generosity  \\\n",
       "count               149.000000                    149.000000  149.000000   \n",
       "mean                 64.992799                      0.791597   -0.015134   \n",
       "std                   6.762043                      0.113332    0.150657   \n",
       "min                  48.478000                      0.382000   -0.288000   \n",
       "25%                  59.802000                      0.718000   -0.126000   \n",
       "50%                  66.603000                      0.804000   -0.036000   \n",
       "75%                  69.600000                      0.877000    0.079000   \n",
       "max                  76.953000                      0.970000    0.542000   \n",
       "\n",
       "       Perceptions of corruption  Ladder score in Dystopia  \\\n",
       "count                 149.000000              1.490000e+02   \n",
       "mean                    0.727450              2.430000e+00   \n",
       "std                     0.179226              5.347044e-15   \n",
       "min                     0.082000              2.430000e+00   \n",
       "25%                     0.667000              2.430000e+00   \n",
       "50%                     0.781000              2.430000e+00   \n",
       "75%                     0.845000              2.430000e+00   \n",
       "max                     0.939000              2.430000e+00   \n",
       "\n",
       "       Explained by: Log GDP per capita  Explained by: Social support  \\\n",
       "count                        149.000000                    149.000000   \n",
       "mean                           0.977161                      0.793315   \n",
       "std                            0.404740                      0.258871   \n",
       "min                            0.000000                      0.000000   \n",
       "25%                            0.666000                      0.647000   \n",
       "50%                            1.025000                      0.832000   \n",
       "75%                            1.323000                      0.996000   \n",
       "max                            1.751000                      1.172000   \n",
       "\n",
       "       Explained by: Healthy life expectancy  \\\n",
       "count                             149.000000   \n",
       "mean                                0.520161   \n",
       "std                                 0.213019   \n",
       "min                                 0.000000   \n",
       "25%                                 0.357000   \n",
       "50%                                 0.571000   \n",
       "75%                                 0.665000   \n",
       "max                                 0.897000   \n",
       "\n",
       "       Explained by: Freedom to make life choices  Explained by: Generosity  \\\n",
       "count                                  149.000000                149.000000   \n",
       "mean                                     0.498711                  0.178047   \n",
       "std                                      0.137888                  0.098270   \n",
       "min                                      0.000000                  0.000000   \n",
       "25%                                      0.409000                  0.105000   \n",
       "50%                                      0.514000                  0.164000   \n",
       "75%                                      0.603000                  0.239000   \n",
       "max                                      0.716000                  0.541000   \n",
       "\n",
       "       Explained by: Perceptions of corruption  Dystopia + residual  \n",
       "count                               149.000000           149.000000  \n",
       "mean                                  0.135141             2.430329  \n",
       "std                                   0.114361             0.537645  \n",
       "min                                   0.000000             0.648000  \n",
       "25%                                   0.060000             2.138000  \n",
       "50%                                   0.101000             2.509000  \n",
       "75%                                   0.174000             2.794000  \n",
       "max                                   0.547000             3.482000  "
      ]
     },
<<<<<<< HEAD
     "execution_count": 35,
=======
     "execution_count": 150,
>>>>>>> 8dfd3d1216b794f940d827b19e0d3e7393bb6fea
     "metadata": {},
     "output_type": "execute_result"
    }
   ],
   "source": [
    "felicidade_2021.describe()"
   ]
  },
  {
   "cell_type": "code",
<<<<<<< HEAD
   "execution_count": 36,
=======
   "execution_count": null,
>>>>>>> 8dfd3d1216b794f940d827b19e0d3e7393bb6fea
   "metadata": {},
   "outputs": [],
   "source": []
  },
  {
   "cell_type": "code",
   "execution_count": 151,
   "metadata": {
    "scrolled": true
   },
   "outputs": [
    {
     "data": {
      "image/png": "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\n",
      "text/plain": [
       "<Figure size 432x288 with 1 Axes>"
      ]
     },
     "metadata": {},
     "output_type": "display_data"
    }
   ],
   "source": [
    "probplot(felicidade_2021['Ladder score'], dist='norm', plot=plt);"
   ]
  },
  {
   "cell_type": "markdown",
   "metadata": {},
   "source": [
    "A felicidade segue uma distribuição normal"
   ]
  },
  {
   "cell_type": "code",
   "execution_count": null,
   "metadata": {},
   "outputs": [],
   "source": [
    "probplot(felicidade_2021['Ladder score'], dist='norm', plot=plt);"
   ]
  },
  {
   "cell_type": "code",
   "execution_count": 158,
   "metadata": {},
   "outputs": [
    {
     "data": {
      "text/plain": [
       "-0.42113999673857816"
      ]
     },
<<<<<<< HEAD
     "execution_count": 36,
=======
     "execution_count": 158,
>>>>>>> 8dfd3d1216b794f940d827b19e0d3e7393bb6fea
     "metadata": {},
     "output_type": "execute_result"
    }
   ],
   "source": [
    "felicidade_2021[\"Perceptions of corruption\"].corr(felicidade_2021[\"Ladder score\"])"
   ]
  },
  {
<<<<<<< HEAD
   "cell_type": "markdown",
   "metadata": {},
   "source": [
    "## Análise Explanatória ##"
   ]
  },
  {
   "cell_type": "markdown",
   "metadata": {},
   "source": [
    "Analisando o grau de felicidade por país"
   ]
  },
  {
   "cell_type": "code",
   "execution_count": 43,
   "metadata": {},
   "outputs": [
    {
     "data": {
      "image/png": "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\n",
      "text/plain": [
       "<Figure size 432x288 with 1 Axes>"
      ]
     },
     "metadata": {
      "needs_background": "light"
     },
     "output_type": "display_data"
    }
   ],
   "source": [
    "plt.plot(felicidade_2021['Ladder score'], felicidade_2021['Perceptions of corruption'],'go')\n",
    "plt.title(\"Corrupção ifluencia na felicidade\")\n",
    "plt.xlabel(\"Felicidade\")\n",
    "plt.ylabel(\"Corrupção\")\n",
    "plt.show()"
   ]
  },
  {
   "cell_type": "code",
   "execution_count": 40,
   "metadata": {},
   "outputs": [
    {
     "data": {
      "image/png": "iVBORw0KGgoAAAANSUhEUgAAAX4AAAEWCAYAAABhffzLAAAAOXRFWHRTb2Z0d2FyZQBNYXRwbG90bGliIHZlcnNpb24zLjMuMiwgaHR0cHM6Ly9tYXRwbG90bGliLm9yZy8vihELAAAACXBIWXMAAAsTAAALEwEAmpwYAAArwklEQVR4nO3dfbRcdX3v8ffnnCRwQhTkJFoUkvhAfYKLSnyotopGvSbKg1SrNmDAq6ilLWhbapt7L9AaW122Ncu7bEUUUjxSAQGpK1o0lgdtAQFJA6hFJAmCYAgSQKIJyff+sfeEyWT2PnueZ/b+vNY6K2dm9sNvZk6+e+/v7/v7bUUEZmZWHWODboCZmfWXA7+ZWcU48JuZVYwDv5lZxTjwm5lVjAO/mVnFOPBbT0g6SdJ32lz3aZKukfSIpL+bZtmFkkLSjPTx1yUtL7CP2yQdlfHaUZJ+2mbb92iPgaTzJX20wHKzJK2XdKmkl0r6+360r4r8x1kSkt4JfAg4DPglcBewGvjHGL3BGqcADwBPbrXtEbGk4HIvbKdh1lPPBy4Dfgj8E/CBwTanvBz4S0DSnwBnAKcC/wY8CrwI+FPg88Cvm6wzHhE7+9jMViwAbh/BA9bQGPLvt6mIWAesSx9+aZBtKTunekacpP2BvwL+ICIuiYhHIvH9iFgWEb9Olztf0j9KWiPpl8BrJb1Z0vclPSzpbkln1W13r3SHpA2SXp/RjklJV6TbugF4dsPrz5P0TUkPSvqRpN/L2M75wHLgDEmPSnq9pDFJH5F0p6Qtki6SdGDG+ldJem/d4/dJ+kGaNrpd0ksa34ukifTz+YWk24GXNmyztu/aNt5a99q4pE9KekDST4A3N34/kj4v6WeS7pH0UUnjGW0/S9Ilkr6c7utmSUfUvf789P09lKaqjqn/3Bq/34zP5m8k3SBpq6Sv1n+Oko5Jt/tQuuzz617bIOkv0vf/C0nnSdo3fW2vtF6a7npOxvs8VtIt6d/KnZLelD5/ct139RNJ729Y732Sfpz+DV0h6enNtm8FRIR/RvgHeBPwODBjmuXOB7YCryI54O8LHAUcnj7+H8D9wHHp8kcBP23Yxgbg9Rnb/xfgImA/knTTPcB30tf2A+4GTia5ynwJSSrnhTlt/Wjd49OB64CDgX2AzwIXpq8tBKL2/oGrgPemv789bcdLAQHPARY0vhfgb4FrgQOBQ4Bb6997up2np5/TO0hSaQelr32AJDVxSLr+vze05/K0vfsBTwVuAN6f8b7PAnYAbwNmklyx3ZX+PhP4MfCXwCzgdcAjwHOzvt8m278q/TwOS9vzFeCL6Wu/mb6vN6T7OiPd36y6z+vWuvf53dp3BJxU+67r9hXAcxq/T+BlaTvfkLbzGcDz0tfeTHLCIOA1wGPAS9LXXkfyN/MSkr+BTwPXDPr/36j+DLwB/unwC4QTgPsanvsP4CFgG/Dq9LnzgX+eZlufAv4h/f0oCgZ+YDwNWM+re+5jPBH43wFc27DOZ4EzM9qxO1Ckj38ALK57fFC6vxnkB/5/A07L2Mfu9wL8BHhT3WunNL73hnVvAY5Nf/828IG6195Yaw/wNJI020Td6+8C/j1ju2cB19U9HgN+BvxO+nMfMFb3+oXAWS18v1cBf1v3+AXA9vT7+z/ARQ37vgc4qu7zqn+fS4E7099Ponjg/2ztb6zA3/blte+PJGX5ibrX5qR/Awt7/X+sjD/O8Y++LcBcSTMi4nGAiHglQJqqqU/n3V2/oqSXk5ztHkZyFrkPcHEbbZhHEujqt7+x7vcFwMslPVT33AzggoLbXwBcJmlX3XM7SQJrnkOAOwts/+lktx1J7wY+THKQgSTozC2w7gKSs+efSao9N9awfKPdr0XErvQ7rKU07o6I+s9gI8kZ817rFtl+uv5Mkvfy9Pq2p/u+O2f7G+va1YpDgDXNXpC0BDiT5OpjDJgNrE9ffjpwc137HpW0JW3fhjbaUWnO8Y++/yQ5qzy2wLKNnaVfAq4ADomI/UkqKWoR6pck//GAJJdNEuCb2UySbjqk7rn5db/fDVwdEQfU/cyJiA8WaHNt/SUN6+8bEfcUWO/Z0ywDyVl107ZLWgB8DvhDYDIiDiBJeWi6ddP9/xqYW9fuJ0d+RdHubUkaI0lv3Zv+HJI+V7+v+s+gSGd4Y1t3kKRQ7iU5UNX2rXTZe3LWvTf9vfFv5Tdy9t/0O5G0D0nq6ZPA09LPeQ1PfM6N7dsPmGxonxXkwD/iIuIh4GzgM5LeJmlO2hn6IpI8bp4nAQ9GxK8kvQz4/brX/hvYV0kH8Ezgf5NcETRrw07gUuAsSbMlvYCkg7bma8BvSjpR0sz056X1nYfT+CdgZRqEkTRPUpED3bnAn0o6Uonn1LbR4CLgLyQ9RdLBwB/VvbYfSUDdnO77ZJIrpPp1/1jSwZKeAnyk9kJE/Ay4Evg7SU9Ov5dnS3pNTpuPlHS8knEAp5McOK4DricJsGekn99RwNEkfSutOEHSCyTNJikKuCT9/i4C3ixpcfp9/0m67/+oW/fU9H0eSNLX8OX0+XXACyW9KO3wPStn/58HTk73MybpGZKexxNXnJuBx9Oz/zfWrfeldL0XpQeJjwHXR8SGFt+/4cBfChHxCZJUxBnAz0k6aT8L/Dl7/sdt9AfAX0l6BPi/JP/5a9vcmr5+LslZ1S+BvEFNf0iSArmPJKd7Xt22HiH5T/xOkjO3+4CPk3EgaWIVyZXJlWlbrwNePt1KEXExsJIkaDxCkjNuVg10Nknq4i6SQL07BRURtwN/R3JldT9JZ/h369b9HElfwjqSVMSlDdt+N0lQux34BXAJSR9Flq+S9In8AjgROD4idkTEduAYYAnJGfpngHdHxA9zttXMBSTfz30kHfx/nL7PH5H0F3063f7RwNHpfmu+RPL5/CT9+Wi67n+THES+BdwBZA7ci4gbSDr5/4EkXXc1SYf7I2lbLkrf+++TfOe19daS9EN8heQq69kkf0/WBqUdJWY2YErKaZ8TESf0aPtXkVTxnNvGuhtIOs2/1cX2/B/gP9Kgbn3kM34z6ztJc4BNNBlvYL3nqh4zG4Rvk4yr+N1BN6SKnOoxM6sYp3rMzCpmJFI9c+fOjYULFw66GWZmI+Wmm256ICL2Gn8zEoF/4cKF3HjjjYNuhpnZSJG0sdnzTvWYmVWMA7+ZWcU48JuZVYwDv5lZxTjwm5lVjAO/mVmOqfVTLPzUQsbOHmPhpxYytX5q0E3q2EiUc5qZDcLU+ilO+ddTeGzHYwBs3LqRU/71FACWHb5skE3riM/4zcwyrFi7YnfQr3lsx2OsWLtiQC3qDgd+M7MMm7Zuaun5UeHAb2aWYf7+81t6flQ48JuZZVi5eCWzZ87e47nZM2ezcvHKAbWoOxz4zcwyLDt8GeccfQ4L9l+AEAv2X8A5R58z0h27MCLz8S9atCg8SZvZcJtaP8WKtSvYtHUT8/efz8rFK0c+QI46STdFxKLG513OaWYdK2vZY1k51WNmHStr2WNZOfCbWcfKWvZYVg78ZtaxspY9lpUDv5l1bBTKHss45067HPjNrGPDXvZY63zeuHUjQezufK5q8Hc5p5mV3sJPLWTj1r1vP7tg/wVsOH1D/xvUJ1nlnD7jN7PSc+fznhz4zaz03Pm8Jwd+Myu9Ueh87icHfjMrvWHvfO43d+6amZWUO3fNzAxw4Dcz64lhHjDmwG9mfTXMAbFbhn3AmAO/mfXNsAfEbhn22Uod+M2sb4Y9IBZR5Ipl2AeMOfCbWd/0OiD2Oo1U9Ipl2AeM9SzwS/qCpJ9LurXuubdLuk3SLkl7lRiZVUkVct2NehkQ+5FGKnrFMuwDxnp5xn8+8KaG524Fjgeu6eF+zYZeVXLdjXoZEPuRRip6xTLsA8Z6Fvgj4hrgwYbnfhARP+rVPs1GRRly3e3oZUDsR14968pkTGN7XbktO3wZG07fwK4zd7Fy8UpWrF0xNFd3Q5vjl3SKpBsl3bh58+ZBN8esq4a986+X6gPihtM3dO0suJtppKw0XLMrFoCdsTPzym0Yr+6GNvBHxDkRsSgiFs2bN2/QzTHrqmHv/BtF3Uoj5QXqxiuWcY3vtX7jldswXt0NbeA3K7Nh7/zrh253breaRsraf1agPu3rp7HwUws58dITAbjg+AvYFbuabnvj1o27t93sBjAw2Ku7GQPbs1mF1YLRirUr2LR1E/P3n8/KxSuHpvOv12pn1bUAWzurBjr6DJYdvqzQ+nn7zwrIW7ZtYcu2LXssf+DEgbufqyeUGfBrBnl117PZOSVdCBwFzAXuB84k6ez9NDAPeAi4JSL+53Tb8uycZr03tX6qbweiTm6F2I125u0fmDZo10xOTLLt8W17XCEIEeTH1dkzZ/elyqfvs3NGxLsi4qCImBkRB0fE5yPisvT3fSLiaUWCvpn1Xr87INvt3O5WO7P2s3HrRpYeurRpB24zD257cK/0Ul7QH5bSTuf4zazvHZDtdm532s5aXj8vOK9et5rlRyzfI5hPTkxmtrexSql21dBowf4LWqpk6uUAPwd+M+tpeWmzANZu53Yn7ay/Wsjz2I7HWHPHmj2C+aolqwq3txsd972+AnPgN7OelZdmBTAgswIn70y33XZOrZ9i+WXL97payNLJSNxuDFLr9RWYb71oZntVuUB3OiBb7cSdrh3ttLPZOtMp0sncS2NnjzVNRwmx68zmJaTN+NaLZpapV1MpTJeaqZ3d62wx469mcMKlJ+Se6bbTzmZnz/WE9ng8DOMpej3Az3X8ZiXSSalj0Rr4Vszff37TM/75+8/f60x8Z+zM3E79AaTVdubl/2fPnM3yI5az5o41e3xmkFytDGqMxcrFK5te2XTrgOTAb1YSeYOSYDCDxVYuXsnJl5/Mjl07dj83c2zm7knLiqZfOjnTzTr4jGu86dVCrwaXtaLXA/yc6jEbEp2W7+VNNdBphUgnbZPU9HHRiqFOz3SzqmxWv3V100A6LHPr9GoyO3DgNxsK3Sjfy5tqoNPa93bbtmLtCrbv3L7Hc9t3bmfF2hWFzuJb7WtodoDK6hcAmh7MqjBzqqt6zIZAJ1MYTLeNLEUrRDppm85W5mtfPP6LmdU27VQUtVLxk7fsirUrOv4uhoWresyGWDfOMrNSGnmjTnvZtrwrgnGN73EmXnsOWj/Lr2klRZO3bBVmTnXnrtkQyKt+KSqrQxBou0Jkav0UYxprWnEzprHdqZRm8lJJte11s5KolQNU3rJVmDnVgd9sCHSrfC8vkLYayGrpkKwyy52xM7faJe+KIGs+m060cvCcbtlelLYOE6d6zIZAr2/O3U6FSJFyy7xO4qyrFaGepE1aSdFUIZ2Tx4HfbEj0qnyv3VLMov0LWcs1C65CfGDRB3pyNt3v+XRGmat6zEqskzl45n5ibtO7SzXKq3bp581dbG9ZVT0O/GYlllWKOa5xdsWuzGA8tX6Kky4/icd3PZ67/Vnjs3jSrCfx4LYHHdiHkMs5zSooKw2zM3bmDsY67eunNQ36+47vuzs9MjkxSUSwZduWvty1y7rHgd+sxIqUgz624zGWX7Z8j4CdleL51c5f7e6HmDNrzh5z8NS21e+pDax1DvxmI6aVztpmHazN1Eozp9ZPddz5W6apDcrKdfxmI6TVmSMbByNlDcaCJyZ02/b4tsz9148C7sagMxsMn/Fb5fXyptbd3kc7M0fWl4mufuvq3CuAZhO61cwcm8mqJat2P656Lfwoc+C3Suv1Ta27vY+i6ZWsA02tfr02L04rzjvuvD2uKqpeCz/KXM5pldaNWTHb3cfkxCRzZs1pqca9SHuL1O5nLTMxY6Jpx+4ozkxpLuc0a6ofHZR58+S3ehVQJL1SJB2Udba+asmqpqNtlx66tNB7tdHgwG+V1uubWreyrSKlkEXSK0UPZs2miFh2+DKWH7F8jxuQB8Hqdatdn18iDvxWaf3ooCxaUgnFrjSmm9On04PZmjvWEOyZAnZ9frk48Ful9aODstk+Or05Sp5OD2ZZB59W7u5lw82du2YD0MnkaUW33+7kaFkdyEJccPwFrtoZIZ6kzWzIDOvMlVPrpzjx0hP3SveAq3tGTd+reiR9QdLPJd1a99yBkr4p6Y7036f0av9m/dbqIK1ezb/fimZtXnb4sqZBHzwdQ1kUDvySnippfu2nwCrnA29qeO4jwNqIOBRYmz42G3n9GAjWbXltzro1oqdjKIdpA7+kYyTdAdwFXA1sAL4+3XoRcQ3wYMPTxwKr099XA8e10FazodXOVAr9knUlktfmTjuI+zENhrWvyBn/XwOvAP47Ip4JLAa+2+b+nhYRPwNI/31q1oKSTpF0o6QbN2/e3ObuzPqjmwPBuhk0887q89rcSbXTKF79VM20nbuSboyIRZLWAS+OiF2SboiIl027cWkh8LWIOCx9/FBEHFD3+i8iYto8vzt3bdh1a+qHblf75LULmpdodtqB249pMKyYTjp3H5I0B7gGmJK0Csi/H1u2+yUdlDboIODnbW7HbKh0ayBYt1NGeWf1vRq8Nozz9Dv1tKcigf9Y4DHgQ8A3gDuBt7S5vyuA5envy4Gvtrkds6HS6UCwWmDKGiTVbtDMG8XbrTY3BtN+TIPRCqee9lYk1fPxiPjz6Z5rst6FwFHAXOB+4EzgcuAiYD6wCXh7RDR2AO/FqR4bRt2qw2+W3mnUbpqkVwPF8rYL9HRwWquqnHrqJNXzhibPLZlupYh4V0QcFBEzI+LgiPh8RGyJiMURcWj677RB32wYdfMssll6p14n6ZfGs/rJiUkmZkxw4qUn9uyGMMM2T/8wpp4GLfOMX9IHgT8AnkWS3ql5EvDdiDih981L+Iz/CcM62rNqunkWOXb2WOaAqcmJSVYtWdW1aRzyztJb+bvKarMQu87c1XFbu8ln/Huf8efdc/dLJPX6f8OeA60e8Zn6YLR6v1XrnW6eRWbduxZgzqw5Xftus87Sa/fZbeXvapTut7ty8cqmB7wq3yIyL9UTEbEBOBV4pO4HSQf2vmnWaJgHCVVNNzsw8wJQv24I0+rf1Sjdb3fYUk/DIC/wfyn99ybgxvTfm+oeW585Vzk4jRUsSw9d2rXAt+zwZT2dprndbeX9XY1aMB2GeZGGSWbgj4i3pP8+MyKelf5b+3lW/5poNcNWJlcVzTpyV69bzfIjlucGvlZqx5vd8rAfN4SZPXN22wcdB9PRlZfj303S8cBvAwFcGxGX97JR1pxzlYORlWJbc8eazM7BVvtjas/1suM+ax/QvPzSf1flVaSO/zPAc4AL06feAdwZEaf2uG27uarnCVWv6un3+59aP8UJlzYvYMurYMmqJBnXOLti19B9d1X/uyqrtm/EIuk24LBIF5Q0BqyPiBf2pKVNOPAbdD4YqdXgNt3AqrxywLwSzXbaPh0HbmumkwFcPyIZaVtzCPBf3WqYWVFFqpqy8urN8vQnXnoiOluZ+fe8gVWzxmfx6PZHM/P3RfpdulWRNcgpCTwHzmgqEvgngR9IukrSVcDtwDxJV0i6oqetM6szXVVTXgBsFsRrZ+RZgTKvqiUi2LJtS2agbdaR2sp7akU7Zb7dCNieA2d0FUn1vCbv9Yi4uqstasKpHoPpR2Dmvb5p66ZpUy+NqZu8SdOKrF+ffhnTGDtj57TrtKPVUbTdmr+nyiNiR0XbqZ6IuDrvpzfNNdvbdIOG8q4IiqReGtcvetZev379mXTtTla7ztzF6reu7lm5Zqtlvt0aCOhxJaOryK0XXyHpe5IelbRd0k5JD/ejcVZO7aYZphs0lBcAiwTxxvXr91fEgRMHZqY+ejngqdVRtN0K2B5XMroK3YELeCdwMbAIeDdwaET8Ze+bl3Cqpzx6NU1wkW3XUi/N0hPTtWG6Kp3ZM2czMWOCLdu27PVap6mPvIqd+vc0rnF2xs7d/y7Yf0HT6p5hvVuYdV8nVT1ExI+B8YjYGRHnkcyzb9ayXs43NN1Z9bLDlzU9OxZi+RHLc4NV3llsbT8Pbms+d2EnqY+8DtT614DdfQi1f7M6W7s1z86oTdtgTyhyxn8N8HrgXOA+4GfASRFxRO+bl/AZf3kMejrfdgdWFTm77UVnZ157D9j3gKZXGEX277r/aujkjP/EdLk/BH5JUsf/u91tnlXB1PopxtT8T65feeGss++dsTO3JLHI2W2zM+np6v07aW+RoJ+1Dc+zU21F5up5ANgeEb8CzpY0DuzT22ZZ2dTOmJuVNPZzXpi8ue9r6u8kVW/Z4ctyA2TjXDgHThzIw79+eHeAbuf+CUXaW2QbZvWKnPGvBepPYyaAb/WmOVZWWaNgxzXe17zw0kOXFlqu3bx8/Zn0nFlz2LFrxx6vt9qf0WpJaaN+HVQ9gne0FAn8+0bEo7UH6e/t/yVaJWUF0l2xq69phjV3rCm0XDfOkrtRNllLMY1rvNDyM8ZmMDkx2dfOVo/gHT1FAv8vJb2k9kDSkcC23jXJyqibNd+dnF0WCbqDGliVZdnhy5oOABPaa9nHdz3OnFlz+pq7953hRk+RwH86cLGkayVdC3yZpKPXrLBulRB2enZ54ETzu4aOa3zgA6vyNOtczhpX0O+Rsx7BO3qm7dyNiO9Jeh7wXEDADyNixzSrme2hWzcayTu7nG5bU+uneGT7I3s9P3NsJucdd17Xz467fXOVxs7lrFLPfnfmjtKN1y0xbR3/MHAdf7m1UlPeyTiArEA5OTHJA2c80F7jB2jQI2frRw0L7fG9eATvcOho5K5Zr7SauslK1bQzCVtN1ojbYTfIkbONo4aD2N3n4BG8wy831SNJwMERcXef2mMV00rqJi9VUyRvXsaUxHRjC3ol6/4GnpJ5NOSe8ae3W7y8P02xKmqlY3DF2hVs37l9r+efvM+TCwW/bna2Vp07dEdbkVTPdZJe2vOWWCW1UvLYaarGk4p1j6dkHm1FAv9rSYL/nZL+S9J6Sb7nrrWlsQZ/6aFLC5+FdyPY1EbWXnD8BQCceOmJpRxp2uuRtL56Gm1FAv8S4FnA64Cjgbek/5q1pFlH7up1q1l+xPJCZ+HDMhZg0KYL6q2+v3YOEtNdPXkKh+FWqJxT0m+T3HzlPEnzgDkRcVfbO5VOA95HMi7gcxHxqbzlXc5ZDt2Ytrgb0wmP8r1iuz09dC9KQgddZmpPyCrnLDIf/5kkd956bkT8pqSnAxdHxKvabMhhwL8ALwO2A98APhgRd2St48BfDoOei3/Y2tGOIkG9lffXz3sIjMKBtWw6qeN/K3AMyVz8RMS9wJM6aMvzgesi4rGIeBy4Ot2HldywdAgOqh3dSH8UqabpRod5J9U5rvgZfkUC//a0rDMAJO3X4T5vBV4taVLSbGApyc1drOSGpUOwSDu6naPuVr9CkaDeyufci4PgsBzgLVuRwH+RpM8CB0h6H8lc/J9rd4cR8QPg48A3SdI864DHG5eTdIqkGyXduHnz5nZ3Z0NkWMopa+2YnJjc/dzEjIndv/ei87dbM1gWCeqtfM69OBgPywHeshXt3H0D8Mb04ZUR8c2uNUD6GPDTiPhM1jLO8Vu35XVA1uafadRJjrqb/Qrdvl9uL+6/63v6Doe2O3fTlX+DpDM2gO9FxH0dNuapEfFzSfOBK4HfiohfZC3vwG/dltcBuWnrpq53/rrD0wah7c5dSe8FbgCOB95GMpjrPR225yuSbgf+FTg1L+ib9UJeB2QvctSjmP5wLX55Fcnx/xnw4og4KSKWA0cCf97JTiPidyLiBRFxRESs7WRbZu3IC+69CNLD0r9R1KgPcrN8Rer41wJLImJ7+ngWsCYiXt+H9gFO9Vj3TTfIqOo5aqemyiEr1TPtHbiAe4DrJX2VJMd/LHCDpA8DRMTfd7Wl1ldVDXDT3R1rUNMdDwvX4pdbkcB/Z/pT89X0304GcdkQaDzrrV3OA5UIelUP7nnKeO8Ce0KRe+6e3Y+GWP91cv9aK7eVi1c2TYUNc2e0FedbL1aYL+cty6h1RltriqR6rKR8OW95nAorryJ1/HP70RDrv1GsLbfWuBbfmskM/JKOlrQZWC/pp5Je2cd2WR/4cr7cmtXiv+er72HuJ+b6QFBxmXX86e0Vfy8ifijp5cAnIuI1fW1dynX8NkijWvKaVYtfzzdIKbd2pmx4PCJ+CBAR1+PyTaugdkawDkt6pUgnfTszhNroywv8T5X04dpPk8dm02olCHYzYHZrW61Op9yvqQ6KvL+infSu4qqevMD/OZKz/NpP42OzXK0EwW4GzG5uq9WS127Nu5+n6Ptr1nnfjKu4qqfQtMyD5hz/aGplvpesZScnJpkza05L+fVuzjPT6rb6cT/fVm+mXuufOHDiQB7+9cPs2LVj9+vO8ZdbW9MyS3qtpK9Iui39uUTSUb1qpJVLK2fLWctu2bal5TP3VvbbLGVS/9yj2x9l5tjMPdbJK3ntx20HW3l/yw5fxobTN7DrzF08cMYDnHfcea7istxyzjcDXwC+Bvw+sAxYA3xB0tL+NM9GWStBsGhgLJI2KbrfrHLHky8/efdzW7ZtQRKTE5OFgmU/xkZ0cnCpPxBsOH2Dg35F5Z3x/xlwXEScFxHrIuKWiPgCcBwdzsdv1dBKECyaj4bpOyOL7rdZPn77zu17pEJqz82ZNadQsOzH2AgPvLNO5U3Z8BsRsa7xyYj4L0lP62GbrCSmm/p4umUf3f4oW7Zt2WvZ6c5si+63lWqWVpbt9VQHrXyuZs3kDeC6KSKObPW1XnDnbjVl3Sxl+RHLWXPHmpaCXrNBWFk3VW/GNyCxUdTOjVieLemKZtsCntW1lpllaHZmu/TQpaxet7qlewhk3Xdg+RHL99gWwKzxWUTEXpUvTqNYmeSd8edOzxARV/ekRU34jN9q2inVzFunduZffyUATqNYOWSd8buO30ZKO3Xy/aitNxtGLdfxSzpW0ql1j6+X9JP05229aqhZnnZKGftRW282SvLKOc8A6nP8+wAvBY4CPtjDNpllaqeU0eWPZnvKC/yzIuLuusffiYgtEbEJ2K/H7TJrqp06ed93wGxPeZ27P46I52S8dmdEPLunLavjHL8Ni1Gdm9+qqZ25eq6X9L4mG3o/cEM3G2ejaVjmne+Xfk25bNZreWf8TwUuB34N3Jw+fSRJrv+4iLi/Hw0En/EPo6zBVWVOocz9xNymI4lrpaSNVwNLD13a8kAzs25qu5xT0uuAF6YPb4uIb/egfbkc+IdPN6c+HgVT66c44dITmr4mxAXHX7DXgbBR44HRaSPrNdfxW1eVvTa+MShnzRsEycEOKDT9Q/3VQdWumKz/2pqP3yxLmWvjm+Xys4I+JOWiRSdxqy3Xjzt1mWVx4Le2tFMbPyqdwc2CcpbJiUmWHb6s8AGvtlyrt3Q066aBBH5JH0rv6HWrpAsl7TuIdlj7Wq2NH6WKmKLBd/bM2axasgoodj+B+gNjma+YbPj1PfBLegbwx8CiiDgMGAfe2e92WOdauZvTKKU2soLv5MRk5oGu2YHwg4s+mLm8RxPbIOVNy9zr/U5I2gHMBu4dUDv6puoVHKOU2li5eGXTjtdVS1ZNO0K46Hfqm6nYIPU98EfEPZI+CWwCtgFXRsSVjctJOgU4BWD+/NG+/M2aDx6y55Avut1RCRzz95/ftOplGFMb/QrKvb5Tl1mWvpdzSnoK8BXgHcBDwMXAJRHxxax1Rr2csxc176NWDjhq7TUrg2Eq53w9cFdEbI6IHcClwCsH0I6+6UWaIy9nPozVM54ozWx4DCLHvwl4haTZJKmexcDons4X0Is0R9ZBo5ZG6nZaqRuGPbUxSqkzs070/Yw/Iq4HLiGZ/2d92oZz+t2OfupFBUfWQWNc4yNTPTNMRqnc1KxTA6njj4gzI+J5EXFYRJwYEb8eRDv6pRdpjqyDyc7Y2XT5YayeGSajVG5q1qlBlXNWTrfTHFmVJyvWrhiZ6plhMkrlpmadcuAfYVkHk2bVM1UZGNRunn6Uyk3NOuW5ekqmytUzneTpPZLWqqS00zK7QmO49OP76HS8hG+kYmUzTHX8PVe2Co1hrMtvRa++j8bPJWs+/E1bNxX6DOvnHlq5eCWr160uzd+QWb1SnvGX6e5QZRjx2q+Ry0JNbw4zOTHJtse3tfQZlulvyKqrUmf8ZarQKEOZYb9GLgeB0B7P1fL2rX6GZfobMmtUysBfprnOyxCAevF9ZL3/IPbq2H5w24MtbSOvbaP4N2TWqJSBv0wVGp0EoGHpG+jnyOVaKqb+HgHtfIZl+hsya1TKwF+mksZ2A9AwdXD3c+Rys8+lnc+wTH9DZo1K2blbNu2UQlahc7KVz8XlvVZFWZ27DvwlNXb2WNMKFyF2nblrAC0ys36rVFVP1U2tn2JMzb9ad06amQN/ydRy+81m6czLaw9LR7CZ9Z4naSuZZvXtkMzTn9U52at7ApvZcPIZf8lk1abvil2ZQbxXg8R8FWE2nBz4S6admvVOB4k1C/BFykl9YDAbDAf+kmmnZr3TQWLNAvxpXz8t9ypimMYZmFWNA3/JtDPwqJNRqllpoi3btjRdvnYVUYY5iMxGlTt3S6jV2zxm3caxyDZanTOodhXRjfSSB2SZtceB34D27wmcdcvCrKmQa1cRndzq0FVIZp1xqsc6kpUmWrVkVW7KqRfpJaeJzIrxGb91ZLo0UdYZeC/SS6M0VbXZIHmuHhs5VZiAzqwbPFePlUYraSKPFTDbmwO/jZyiJaseK2DWnFM9VlpOCVnVOdVjldONTmCniqyMHPittDq9YbpTRVZWDvxWWp3eMN3jBays+h74JT1X0i11Pw9LOr3f7bDy6/SG6R4vYGXV9wFcEfEj4EUAksaBe4DL+t0Oq4Z2p6KAzqaVMBtmg071LAbujIi9/3dZW9wZ2T2dporMhtWgA/87gQsH3IbScGdkd3WaKjIbVgOr45c0C7gXeGFE3N/k9VOAUwDmz59/5MaNviiYjuvWzazeMNbxLwFubhb0ASLinIhYFBGL5s2b1+emjSZ3RppZEYMM/O/CaZ6u6rRu3cyqYSCBX9Js4A3ApYPYf1m5M9LMihhI4I+IxyJiMiK2DmL/ZeXOSDMrwpO0mZmV1DB27pqZ2QA48JuZVYwDv5lZxTjwm5lVjAO/mVnFOPBXlCdzM6uuvk/LbINXm8ytdpOR2mRugGv+zSrAZ/wV5DtLmVWbA38FeTI3s2pz4K8gT+ZmVm0O/BXkydzMqs2Bv4I8mZtZtXmSNjOzkvIkbWZmBjjwm5lVjgO/mVnFOPCbmVWMA7+ZWcWMRFWPpM3AxkG3o4C5wAODbkQfVOF9+j2WQxXeI2S/zwURMa/xyZEI/KNC0o3NSqfKpgrv0++xHKrwHqH19+lUj5lZxTjwm5lVjAN/d50z6Ab0SRXep99jOVThPUKL79M5fjOzivEZv5lZxTjwm5lVjAN/F0jaV9INktZJuk3S2YNuU69IGpf0fUlfG3RbekXSBknrJd0iqZTTwko6QNIlkn4o6QeSfmvQbeomSc9Nv7/az8OSTh90u7pN0ofSmHOrpAsl7VtoPef4OydJwH4R8aikmcB3gNMi4roBN63rJH0YWAQ8OSLeMuj29IKkDcCiiCjtwB9Jq4FrI+JcSbOA2RHx0ICb1ROSxoF7gJdHxCgMBC1E0jNIYs0LImKbpIuANRFx/nTr+oy/CyLxaPpwZvpTuiOqpIOBNwPnDrot1j5JTwZeDXweICK2lzXopxYDd5Yp6NeZAUxImgHMBu4tspIDf5ekKZBbgJ8D34yI6wfcpF74FHAGsGvA7ei1AK6UdJOkUwbdmB54FrAZOC9N250rab9BN6qH3glcOOhGdFtE3AN8EtgE/AzYGhFXFlnXgb9LImJnRLwIOBh4maTDBtykrpL0FuDnEXHToNvSB6+KiJcAS4BTJb160A3qshnAS4B/jIgXA78EPjLYJvVGmsY6Brh40G3pNklPAY4Fngk8HdhP0glF1nXg77L0kvkq4E2DbUnXvQo4Js1//wvwOklfHGyTeiMi7k3//TlwGfCywbao634K/LTuqvQSkgNBGS0Bbo6I+wfdkB54PXBXRGyOiB3ApcAri6zowN8FkuZJOiD9fYLkC/nhQBvVZRHxFxFxcEQsJLl0/nZEFDq7GCWS9pP0pNrvwBuBWwfbqu6KiPuAuyU9N31qMXD7AJvUS++ihGme1CbgFZJmpwUmi4EfFFlxRk+bVR0HAavT6oEx4KKIKG25Y8k9Dbgs+X/EDOBLEfGNwTapJ/4ImEpTIT8BTh5we7pO0mzgDcD7B92WXoiI6yVdAtwMPA58n4JTN7ic08ysYpzqMTOrGAd+M7OKceA3M6sYB34zs4px4DczqxgHfis1STsbZmlcmLPs+ZLelv5+rqQX5Cx7jKSmo10lPdrs+ZxtnSXpT1tZx6wTruO3stuWTqXRkoh47zSvXwFc0W6jzAbJZ/xWOZKOlHR1Ognbv0k6qMkyV0lalP7+Jkk3p/dbWJs+d5Kk/5f+/kxJ/ynpe5L+um4bcyStTdddL+nYutdWSPqRpG8Bz617/tmSvpG27VpJz+vhR2EV5TN+K7uJdNZUgLuA3wM+DRwbEZslvQNYCbyn2cqS5gGfA14dEXdJOrDJYqtIJjz7Z0mn1j3/K+CtEfGwpLnAdZKuIJkX553Ai0n+D94M1Ca/Owf4QETcIenlwGeA17X75s2aceC3stsj1ZPOmnoY8M10WoZxkilts7wCuCYi7gKIiAebLPMq4HfT3y8APl7bHfCxdHbPXcAzSKaE+B3gsoh4LG3TFem/c0gm2bo4bRvAPi28V7NCHPitagTcFhFFbzUoit1Up9kyy4B5wJERsSOd2XTfnOXHgIfa6ZMwa4Vz/FY1PwLm1e4xK2mmpBfmLP+fwGskPTNdvlmq57skqRtIgn3N/iT3MNgh6bXAgvT5a4C3SppIZwI9GiAiHgbukvT2dF+SdERb79IshwO/VUpEbAfeBnxc0jrgFnLmMI+IzcApwKXp8l9usthpJDds+R5JsK+ZAhYpuWH7MtKpuiPi5nQ7twBfAa6tW2cZ8L/Sfd1GcqMNs67y7JxmZhXjM34zs4px4DczqxgHfjOzinHgNzOrGAd+M7OKceA3M6sYB34zs4r5/+EuMWJz5sNJAAAAAElFTkSuQmCC\n",
      "text/plain": [
       "<Figure size 432x288 with 1 Axes>"
      ]
     },
     "metadata": {
      "needs_background": "light"
     },
     "output_type": "display_data"
    }
   ],
   "source": [
    "plt.plot(felicidade_2021['Ladder score'], felicidade_2021['Logged GDP per capita'],'go')\n",
    "plt.title(\"Grau de felicidade por populção\")\n",
    "plt.xlabel(\"Felicidade\")\n",
    "plt.ylabel(\"GDP per capita\")\n",
    "plt.show()"
   ]
  },
  {
   "cell_type": "code",
   "execution_count": 41,
   "metadata": {},
   "outputs": [
    {
     "data": {
      "text/plain": [
       "-0.34233741981567894"
      ]
     },
     "execution_count": 41,
     "metadata": {},
     "output_type": "execute_result"
    }
   ],
   "source": [
    "felicidade_2021[\"Logged GDP per capita\"].corr(felicidade_2021[\"Perceptions of corruption\"])"
   ]
  },
  {
   "cell_type": "code",
   "execution_count": 42,
   "metadata": {},
   "outputs": [
    {
     "data": {
      "text/plain": [
       "0.7897596965098931"
      ]
     },
     "execution_count": 42,
     "metadata": {},
     "output_type": "execute_result"
    }
   ],
   "source": [
    "felicidade_2021[\"Logged GDP per capita\"].corr(felicidade_2021[\"Ladder score\"])"
   ]
  },
  {
=======
>>>>>>> 8dfd3d1216b794f940d827b19e0d3e7393bb6fea
   "cell_type": "code",
   "execution_count": null,
   "metadata": {},
   "outputs": [],
   "source": []
  }
 ],
 "metadata": {
  "kernelspec": {
   "display_name": "Python 3",
   "language": "python",
   "name": "python3"
  },
  "language_info": {
   "codemirror_mode": {
    "name": "ipython",
    "version": 3
   },
   "file_extension": ".py",
   "mimetype": "text/x-python",
   "name": "python",
   "nbconvert_exporter": "python",
   "pygments_lexer": "ipython3",
   "version": "3.8.5"
  }
 },
 "nbformat": 4,
 "nbformat_minor": 4
}
